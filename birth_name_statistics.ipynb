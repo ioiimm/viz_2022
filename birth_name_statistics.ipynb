{
 "cells": [
  {
   "cell_type": "markdown",
   "id": "033e7a00",
   "metadata": {},
   "source": [
    "## Гипотезы\n",
    "- увеличилась рождаемость\n",
    "- рождаемость мальчиков стала превышать рождаемость девочек\n",
    "- мальчиков чаще называют гендерно-нейтральными именами, чем девочек"
   ]
  },
  {
   "cell_type": "code",
   "execution_count": 2,
   "id": "17511e88",
   "metadata": {},
   "outputs": [],
   "source": [
    "import csv\n",
    "import seaborn as sns\n",
    "import pandas as pd\n",
    "import numpy as np\n",
    "import matplotlib as mpl\n",
    "import matplotlib.pyplot as plt\n",
    "from matplotlib.ticker import ScalarFormatter"
   ]
  },
  {
   "cell_type": "code",
   "execution_count": null,
   "id": "87bbcfed",
   "metadata": {},
   "outputs": [],
   "source": [
    "import seaborn as sns\n",
    "import matplotlib as mpl"
   ]
  },
  {
   "cell_type": "code",
   "execution_count": 3,
   "id": "65ef713e",
   "metadata": {
    "scrolled": true
   },
   "outputs": [
    {
     "data": {
      "text/html": [
       "<div>\n",
       "<style scoped>\n",
       "    .dataframe tbody tr th:only-of-type {\n",
       "        vertical-align: middle;\n",
       "    }\n",
       "\n",
       "    .dataframe tbody tr th {\n",
       "        vertical-align: top;\n",
       "    }\n",
       "\n",
       "    .dataframe thead th {\n",
       "        text-align: right;\n",
       "    }\n",
       "</style>\n",
       "<table border=\"1\" class=\"dataframe\">\n",
       "  <thead>\n",
       "    <tr style=\"text-align: right;\">\n",
       "      <th></th>\n",
       "      <th>year</th>\n",
       "      <th>sex</th>\n",
       "      <th>name</th>\n",
       "      <th>n</th>\n",
       "      <th>prop</th>\n",
       "    </tr>\n",
       "  </thead>\n",
       "  <tbody>\n",
       "    <tr>\n",
       "      <th>0</th>\n",
       "      <td>1880</td>\n",
       "      <td>F</td>\n",
       "      <td>Mary</td>\n",
       "      <td>7065</td>\n",
       "      <td>0.072384</td>\n",
       "    </tr>\n",
       "    <tr>\n",
       "      <th>1</th>\n",
       "      <td>1880</td>\n",
       "      <td>F</td>\n",
       "      <td>Anna</td>\n",
       "      <td>2604</td>\n",
       "      <td>0.026679</td>\n",
       "    </tr>\n",
       "    <tr>\n",
       "      <th>2</th>\n",
       "      <td>1880</td>\n",
       "      <td>F</td>\n",
       "      <td>Emma</td>\n",
       "      <td>2003</td>\n",
       "      <td>0.020521</td>\n",
       "    </tr>\n",
       "    <tr>\n",
       "      <th>3</th>\n",
       "      <td>1880</td>\n",
       "      <td>F</td>\n",
       "      <td>Elizabeth</td>\n",
       "      <td>1939</td>\n",
       "      <td>0.019866</td>\n",
       "    </tr>\n",
       "    <tr>\n",
       "      <th>4</th>\n",
       "      <td>1880</td>\n",
       "      <td>F</td>\n",
       "      <td>Minnie</td>\n",
       "      <td>1746</td>\n",
       "      <td>0.017888</td>\n",
       "    </tr>\n",
       "  </tbody>\n",
       "</table>\n",
       "</div>"
      ],
      "text/plain": [
       "   year sex       name     n      prop\n",
       "0  1880   F       Mary  7065  0.072384\n",
       "1  1880   F       Anna  2604  0.026679\n",
       "2  1880   F       Emma  2003  0.020521\n",
       "3  1880   F  Elizabeth  1939  0.019866\n",
       "4  1880   F     Minnie  1746  0.017888"
      ]
     },
     "execution_count": 3,
     "metadata": {},
     "output_type": "execute_result"
    }
   ],
   "source": [
    "data_bab = pd.read_csv('babynames.csv', delimiter=',')\n",
    "data_bab = pd.DataFrame(data_bab)\n",
    "data_bab.head()"
   ]
  },
  {
   "cell_type": "code",
   "execution_count": 4,
   "id": "fa813d14",
   "metadata": {},
   "outputs": [
    {
     "data": {
      "text/html": [
       "<div>\n",
       "<style scoped>\n",
       "    .dataframe tbody tr th:only-of-type {\n",
       "        vertical-align: middle;\n",
       "    }\n",
       "\n",
       "    .dataframe tbody tr th {\n",
       "        vertical-align: top;\n",
       "    }\n",
       "\n",
       "    .dataframe thead th {\n",
       "        text-align: right;\n",
       "    }\n",
       "</style>\n",
       "<table border=\"1\" class=\"dataframe\">\n",
       "  <thead>\n",
       "    <tr style=\"text-align: right;\">\n",
       "      <th></th>\n",
       "      <th>year</th>\n",
       "      <th>sex</th>\n",
       "      <th>name</th>\n",
       "      <th>n</th>\n",
       "      <th>prop</th>\n",
       "    </tr>\n",
       "  </thead>\n",
       "  <tbody>\n",
       "    <tr>\n",
       "      <th>0</th>\n",
       "      <td>1880</td>\n",
       "      <td>F</td>\n",
       "      <td>Mary</td>\n",
       "      <td>7065</td>\n",
       "      <td>0.072384</td>\n",
       "    </tr>\n",
       "    <tr>\n",
       "      <th>1</th>\n",
       "      <td>1880</td>\n",
       "      <td>F</td>\n",
       "      <td>Anna</td>\n",
       "      <td>2604</td>\n",
       "      <td>0.026679</td>\n",
       "    </tr>\n",
       "    <tr>\n",
       "      <th>2</th>\n",
       "      <td>1880</td>\n",
       "      <td>F</td>\n",
       "      <td>Emma</td>\n",
       "      <td>2003</td>\n",
       "      <td>0.020521</td>\n",
       "    </tr>\n",
       "    <tr>\n",
       "      <th>3</th>\n",
       "      <td>1880</td>\n",
       "      <td>F</td>\n",
       "      <td>Elizabeth</td>\n",
       "      <td>1939</td>\n",
       "      <td>0.019866</td>\n",
       "    </tr>\n",
       "    <tr>\n",
       "      <th>4</th>\n",
       "      <td>1880</td>\n",
       "      <td>F</td>\n",
       "      <td>Minnie</td>\n",
       "      <td>1746</td>\n",
       "      <td>0.017888</td>\n",
       "    </tr>\n",
       "    <tr>\n",
       "      <th>...</th>\n",
       "      <td>...</td>\n",
       "      <td>...</td>\n",
       "      <td>...</td>\n",
       "      <td>...</td>\n",
       "      <td>...</td>\n",
       "    </tr>\n",
       "    <tr>\n",
       "      <th>1924660</th>\n",
       "      <td>2017</td>\n",
       "      <td>M</td>\n",
       "      <td>Zykai</td>\n",
       "      <td>5</td>\n",
       "      <td>0.000003</td>\n",
       "    </tr>\n",
       "    <tr>\n",
       "      <th>1924661</th>\n",
       "      <td>2017</td>\n",
       "      <td>M</td>\n",
       "      <td>Zykeem</td>\n",
       "      <td>5</td>\n",
       "      <td>0.000003</td>\n",
       "    </tr>\n",
       "    <tr>\n",
       "      <th>1924662</th>\n",
       "      <td>2017</td>\n",
       "      <td>M</td>\n",
       "      <td>Zylin</td>\n",
       "      <td>5</td>\n",
       "      <td>0.000003</td>\n",
       "    </tr>\n",
       "    <tr>\n",
       "      <th>1924663</th>\n",
       "      <td>2017</td>\n",
       "      <td>M</td>\n",
       "      <td>Zylis</td>\n",
       "      <td>5</td>\n",
       "      <td>0.000003</td>\n",
       "    </tr>\n",
       "    <tr>\n",
       "      <th>1924664</th>\n",
       "      <td>2017</td>\n",
       "      <td>M</td>\n",
       "      <td>Zyrie</td>\n",
       "      <td>5</td>\n",
       "      <td>0.000003</td>\n",
       "    </tr>\n",
       "  </tbody>\n",
       "</table>\n",
       "<p>1924665 rows × 5 columns</p>\n",
       "</div>"
      ],
      "text/plain": [
       "         year sex       name     n      prop\n",
       "0        1880   F       Mary  7065  0.072384\n",
       "1        1880   F       Anna  2604  0.026679\n",
       "2        1880   F       Emma  2003  0.020521\n",
       "3        1880   F  Elizabeth  1939  0.019866\n",
       "4        1880   F     Minnie  1746  0.017888\n",
       "...       ...  ..        ...   ...       ...\n",
       "1924660  2017   M      Zykai     5  0.000003\n",
       "1924661  2017   M     Zykeem     5  0.000003\n",
       "1924662  2017   M      Zylin     5  0.000003\n",
       "1924663  2017   M      Zylis     5  0.000003\n",
       "1924664  2017   M      Zyrie     5  0.000003\n",
       "\n",
       "[1924665 rows x 5 columns]"
      ]
     },
     "execution_count": 4,
     "metadata": {},
     "output_type": "execute_result"
    }
   ],
   "source": [
    "data_bab"
   ]
  },
  {
   "cell_type": "code",
   "execution_count": 28,
   "id": "5a78d4f7",
   "metadata": {},
   "outputs": [
    {
     "name": "stderr",
     "output_type": "stream",
     "text": [
      "C:\\Users\\espia\\AppData\\Local\\Temp/ipykernel_12712/3058150553.py:1: FutureWarning: Indexing with multiple keys (implicitly converted to a tuple of keys) will be deprecated, use a list instead.\n",
      "  df_1 = data_bab.groupby(['year','sex'])['n', 'prop'].first()\n"
     ]
    },
    {
     "data": {
      "text/html": [
       "<div>\n",
       "<style scoped>\n",
       "    .dataframe tbody tr th:only-of-type {\n",
       "        vertical-align: middle;\n",
       "    }\n",
       "\n",
       "    .dataframe tbody tr th {\n",
       "        vertical-align: top;\n",
       "    }\n",
       "\n",
       "    .dataframe thead th {\n",
       "        text-align: right;\n",
       "    }\n",
       "</style>\n",
       "<table border=\"1\" class=\"dataframe\">\n",
       "  <thead>\n",
       "    <tr style=\"text-align: right;\">\n",
       "      <th></th>\n",
       "      <th></th>\n",
       "      <th>n</th>\n",
       "      <th>prop</th>\n",
       "    </tr>\n",
       "    <tr>\n",
       "      <th>year</th>\n",
       "      <th>sex</th>\n",
       "      <th></th>\n",
       "      <th></th>\n",
       "    </tr>\n",
       "  </thead>\n",
       "  <tbody>\n",
       "    <tr>\n",
       "      <th rowspan=\"2\" valign=\"top\">1880</th>\n",
       "      <th>F</th>\n",
       "      <td>7065</td>\n",
       "      <td>0.072384</td>\n",
       "    </tr>\n",
       "    <tr>\n",
       "      <th>M</th>\n",
       "      <td>9655</td>\n",
       "      <td>0.081546</td>\n",
       "    </tr>\n",
       "    <tr>\n",
       "      <th rowspan=\"2\" valign=\"top\">1881</th>\n",
       "      <th>F</th>\n",
       "      <td>6919</td>\n",
       "      <td>0.069991</td>\n",
       "    </tr>\n",
       "    <tr>\n",
       "      <th>M</th>\n",
       "      <td>8769</td>\n",
       "      <td>0.080983</td>\n",
       "    </tr>\n",
       "    <tr>\n",
       "      <th>1882</th>\n",
       "      <th>F</th>\n",
       "      <td>8148</td>\n",
       "      <td>0.070427</td>\n",
       "    </tr>\n",
       "    <tr>\n",
       "      <th>...</th>\n",
       "      <th>...</th>\n",
       "      <td>...</td>\n",
       "      <td>...</td>\n",
       "    </tr>\n",
       "    <tr>\n",
       "      <th>2015</th>\n",
       "      <th>M</th>\n",
       "      <td>19613</td>\n",
       "      <td>0.009622</td>\n",
       "    </tr>\n",
       "    <tr>\n",
       "      <th rowspan=\"2\" valign=\"top\">2016</th>\n",
       "      <th>F</th>\n",
       "      <td>19471</td>\n",
       "      <td>0.010097</td>\n",
       "    </tr>\n",
       "    <tr>\n",
       "      <th>M</th>\n",
       "      <td>19082</td>\n",
       "      <td>0.009457</td>\n",
       "    </tr>\n",
       "    <tr>\n",
       "      <th rowspan=\"2\" valign=\"top\">2017</th>\n",
       "      <th>F</th>\n",
       "      <td>19738</td>\n",
       "      <td>0.010528</td>\n",
       "    </tr>\n",
       "    <tr>\n",
       "      <th>M</th>\n",
       "      <td>18728</td>\n",
       "      <td>0.009539</td>\n",
       "    </tr>\n",
       "  </tbody>\n",
       "</table>\n",
       "<p>276 rows × 2 columns</p>\n",
       "</div>"
      ],
      "text/plain": [
       "              n      prop\n",
       "year sex                 \n",
       "1880 F     7065  0.072384\n",
       "     M     9655  0.081546\n",
       "1881 F     6919  0.069991\n",
       "     M     8769  0.080983\n",
       "1882 F     8148  0.070427\n",
       "...         ...       ...\n",
       "2015 M    19613  0.009622\n",
       "2016 F    19471  0.010097\n",
       "     M    19082  0.009457\n",
       "2017 F    19738  0.010528\n",
       "     M    18728  0.009539\n",
       "\n",
       "[276 rows x 2 columns]"
      ]
     },
     "execution_count": 28,
     "metadata": {},
     "output_type": "execute_result"
    }
   ],
   "source": [
    "df_1 = data_bab.groupby(['year','sex'])['n', 'prop'].first()\n",
    "df_1"
   ]
  },
  {
   "cell_type": "code",
   "execution_count": 30,
   "id": "a99991b8",
   "metadata": {},
   "outputs": [],
   "source": [
    "dct = df_1.to_dict('dict')"
   ]
  },
  {
   "cell_type": "markdown",
   "id": "be08907e",
   "metadata": {},
   "source": [
    "---"
   ]
  },
  {
   "cell_type": "markdown",
   "id": "18001f61",
   "metadata": {},
   "source": [
    "## 1880-1925\n",
    "- uni_names (unisex names for 1880-1925 period)\n",
    "- br_f1 (female birth rate)\n",
    "- br_uni_f1 (girls with unisex names)\n",
    "- br_m1 (male birth rate)\n",
    "- br_uni_m1 (boys with unisex names)"
   ]
  },
  {
   "cell_type": "code",
   "execution_count": 45,
   "id": "c8edc5f2",
   "metadata": {},
   "outputs": [],
   "source": [
    "dct_n1 = data_bab.loc[data_bab['year'] < 1926].groupby(['sex']).agg({'name': 'unique'}).to_dict('dict')"
   ]
  },
  {
   "cell_type": "code",
   "execution_count": 46,
   "id": "52607bd1",
   "metadata": {},
   "outputs": [
    {
     "name": "stdout",
     "output_type": "stream",
     "text": [
      "4420\n"
     ]
    }
   ],
   "source": [
    "all_names = list(dct_n1['name']['F']) + list(dct_n1['name']['M'])\n",
    "uni_names = []\n",
    "for i in all_names:\n",
    "    if all_names.count(i) > 1:\n",
    "        uni_names.append(i)\n",
    "print(len(uni_names))"
   ]
  },
  {
   "cell_type": "code",
   "execution_count": 59,
   "id": "3f584f11",
   "metadata": {},
   "outputs": [],
   "source": [
    "br_f1 = sum(birthf[:46]) # 1880-1925\n",
    "br_uni_f1 = int(data_bab.loc[(data_bab['year'] < 1926) & (data_bab['sex'] == 'F') & (data_bab['name'].isin(uni_names))]['n'].agg(['sum']))"
   ]
  },
  {
   "cell_type": "code",
   "execution_count": 60,
   "id": "b33d0717",
   "metadata": {},
   "outputs": [],
   "source": [
    "br_m1 = sum(birthm[:46]) # 1880-1925\n",
    "br_uni_m1 = int(data_bab.loc[(data_bab['year'] < 1926) & (data_bab['sex'] == 'M') & (data_bab['name'].isin(uni_names))]['n'].agg(['sum']))"
   ]
  },
  {
   "cell_type": "markdown",
   "id": "2bdd03db",
   "metadata": {},
   "source": [
    "## 1926-1971\n",
    "- uni_names2\n",
    "- br_f2\n",
    "- br_uni_f2\n",
    "- br_m2\n",
    "- br_uni_m2"
   ]
  },
  {
   "cell_type": "code",
   "execution_count": 61,
   "id": "3166c959",
   "metadata": {},
   "outputs": [
    {
     "name": "stdout",
     "output_type": "stream",
     "text": [
      "7274\n"
     ]
    }
   ],
   "source": [
    "dct_n2 = data_bab.loc[(data_bab['year'] > 1925) & (data_bab['year'] < 1972)].groupby(['sex']).agg({'name': 'unique'}).to_dict('dict')\n",
    "\n",
    "all_names2 = list(dct_n2['name']['F']) + list(dct_n2['name']['M'])\n",
    "uni_names2 = []\n",
    "for i in all_names2:\n",
    "    if all_names2.count(i) > 1:\n",
    "        uni_names2.append(i)\n",
    "print(len(uni_names2))"
   ]
  },
  {
   "cell_type": "code",
   "execution_count": 63,
   "id": "0e3ca2bd",
   "metadata": {},
   "outputs": [],
   "source": [
    "br_f2 = sum(birthf[46:92]) # 1926-1971\n",
    "br_uni_f2 = int(data_bab.loc[(data_bab['year'] > 1925) & (data_bab['year'] < 1972) & (data_bab['sex'] == 'F') & (data_bab['name'].isin(uni_names2))]['n'].agg(['sum']))"
   ]
  },
  {
   "cell_type": "code",
   "execution_count": 64,
   "id": "98619df8",
   "metadata": {},
   "outputs": [],
   "source": [
    "br_m2 = sum(birthm[46:92]) # 1926-1971\n",
    "br_uni_m2 = int(data_bab.loc[(data_bab['year'] > 1925) & (data_bab['year'] < 1972) & (data_bab['sex'] == 'M') & (data_bab['name'].isin(uni_names2))]['n'].agg(['sum']))"
   ]
  },
  {
   "cell_type": "markdown",
   "id": "e72b9ddf",
   "metadata": {},
   "source": [
    "## 1972-2017\n",
    "- uni_names3\n",
    "- br_f23\n",
    "- br_uni_f3\n",
    "- br_m3\n",
    "- br_uni_m3"
   ]
  },
  {
   "cell_type": "code",
   "execution_count": 65,
   "id": "d458bbd0",
   "metadata": {},
   "outputs": [
    {
     "name": "stdout",
     "output_type": "stream",
     "text": [
      "17762\n"
     ]
    }
   ],
   "source": [
    "dct_n3 = data_bab.loc[data_bab['year'] > 1971].groupby(['sex']).agg({'name': 'unique'}).to_dict('dict')\n",
    "\n",
    "all_names3 = list(dct_n3['name']['F']) + list(dct_n3['name']['M'])\n",
    "uni_names3 = []\n",
    "for i in all_names3:\n",
    "    if all_names3.count(i) > 1:\n",
    "        uni_names3.append(i)\n",
    "print(len(uni_names3))"
   ]
  },
  {
   "cell_type": "code",
   "execution_count": 67,
   "id": "528bc05f",
   "metadata": {},
   "outputs": [],
   "source": [
    "br_f3 = sum(birthf[92:]) # 1972-2017\n",
    "br_uni_f3 = int(data_bab.loc[(data_bab['year'] > 1971) & (data_bab['sex'] == 'F') & (data_bab['name'].isin(uni_names3))]['n'].agg(['sum']))"
   ]
  },
  {
   "cell_type": "code",
   "execution_count": 68,
   "id": "f5b4aea7",
   "metadata": {},
   "outputs": [],
   "source": [
    "br_m3 = sum(birthm[92:]) # 1972-2017\n",
    "br_uni_m3 = int(data_bab.loc[(data_bab['year'] > 1971) & (data_bab['sex'] == 'M') & (data_bab['name'].isin(uni_names3))]['n'].agg(['sum']))"
   ]
  },
  {
   "cell_type": "markdown",
   "id": "c0f32c81",
   "metadata": {},
   "source": [
    "- Соотношение числа девочек / мальчиков с гендерно-нейтральными именами и числа всех рожденных девочек / мальчиков за конкретный период"
   ]
  },
  {
   "cell_type": "code",
   "execution_count": 70,
   "id": "9cf05b7e",
   "metadata": {},
   "outputs": [],
   "source": [
    "f1 = br_uni_f1 / br_f1\n",
    "m1 = br_uni_m1 / br_m1\n",
    "f2 = br_uni_f2 / br_f2\n",
    "m2 = br_uni_m2 / br_m2\n",
    "f3 = br_uni_f3 / br_f3\n",
    "m3 = br_uni_m3 / br_m3"
   ]
  },
  {
   "cell_type": "markdown",
   "id": "b4edcf13",
   "metadata": {},
   "source": [
    "---"
   ]
  },
  {
   "cell_type": "markdown",
   "id": "5fe3d0a0",
   "metadata": {},
   "source": [
    "## мальчиков чаще называют гендерно-нейтральными именами, чем девочек"
   ]
  },
  {
   "cell_type": "code",
   "execution_count": 145,
   "id": "9b3cce61",
   "metadata": {},
   "outputs": [
    {
     "data": {
      "image/png": "[encoded data removed]",
      "text/plain": [
       "<Figure size 720x432 with 1 Axes>"
      ]
     },
     "metadata": {
      "needs_background": "light"
     },
     "output_type": "display_data"
    }
   ],
   "source": [
    "timeline = ['1880-1925', '1926-1971', '1972-2017'] # промежуток в 46 лет\n",
    "female = [f1, f2, f3]\n",
    "male = [m1, m2, m3]\n",
    "\n",
    "plt.figure(figsize=(10, 6))\n",
    "x_axis = np.arange(len(timeline))\n",
    "plt.bar(x_axis -0.1, female, width=0.3, label = 'Female', color='#99c1b9')\n",
    "plt.bar(x_axis +0.2, male, width=0.3, label = 'Male', color='#8e7dbe')\n",
    "plt.xticks(x_axis, timeline)\n",
    "plt.ylabel(\"Name-birthrate ratio\", fontsize=13)\n",
    "plt.xlabel(\"Time period\", fontsize=13)\n",
    "plt.legend()\n",
    "#plt.savefig('uninames.png')\n",
    "plt.show()"
   ]
  },
  {
   "cell_type": "markdown",
   "id": "b8b6e349",
   "metadata": {},
   "source": [
    "---"
   ]
  },
  {
   "cell_type": "code",
   "execution_count": 31,
   "id": "f7823727",
   "metadata": {},
   "outputs": [],
   "source": [
    "years = []\n",
    "birthrate = []\n",
    "birthf = []\n",
    "birthm = []\n",
    "for i in range(1880, 2018):\n",
    "    fem = dct['n'][(i, 'F')] / dct['prop'][(i, 'F')]\n",
    "    mal = dct['n'][(i, 'M')] / dct['prop'][(i, 'M')]\n",
    "    total = fem + mal\n",
    "    birthrate.append(round(total))\n",
    "    birthf.append(round(fem))\n",
    "    birthm.append(round(mal))\n",
    "    if i not in years:\n",
    "        years.append(i)"
   ]
  },
  {
   "cell_type": "markdown",
   "id": "49515b06",
   "metadata": {},
   "source": [
    "## рождаемость увеличилась"
   ]
  },
  {
   "cell_type": "code",
   "execution_count": 147,
   "id": "07c36fc5",
   "metadata": {
    "scrolled": false
   },
   "outputs": [
    {
     "data": {
      "image/png": "[encoded data removed]",
      "text/plain": [
       "<Figure size 720x576 with 1 Axes>"
      ]
     },
     "metadata": {
      "needs_background": "light"
     },
     "output_type": "display_data"
    }
   ],
   "source": [
    "plt.figure(figsize=(10, 8))\n",
    "plt.plot(years, birthrate, color='#7b2cbf')\n",
    "ax = plt.gca()\n",
    "ax.yaxis.get_major_formatter().set_scientific(False)\n",
    "plt.xticks(np.arange(1880, 2017, 8), rotation=90)\n",
    "plt.annotate(str(4328220), xy=(2007, 4328220+1), fontsize=9.5, color='#197278')\n",
    "plt.annotate(str(4285006), xy=(1957, 4285006+1), fontsize=9.5, color='#197278')\n",
    "plt.annotate(str(207137), xy=(1880, 120137), fontsize=9.5, color='#197278')\n",
    "plt.annotate(str(3838189), xy=(2009, 3738189), fontsize=9.5, color='#197278')\n",
    "plt.ylabel(\"Birthrate\", fontsize=14)\n",
    "plt.xlabel(\"Years\", fontsize=14)\n",
    "plt.title(\"Birthrates\", fontsize=20)\n",
    "#plt.savefig('birthrates.png')\n",
    "plt.show()"
   ]
  },
  {
   "cell_type": "markdown",
   "id": "70148ba6",
   "metadata": {},
   "source": [
    "## рождаемость мальчиков стала превышать рождаемость девочек"
   ]
  },
  {
   "cell_type": "code",
   "execution_count": 149,
   "id": "75c09fae",
   "metadata": {},
   "outputs": [
    {
     "data": {
      "image/png": "[encoded data removed]",
      "text/plain": [
       "<Figure size 720x432 with 1 Axes>"
      ]
     },
     "metadata": {
      "needs_background": "light"
     },
     "output_type": "display_data"
    }
   ],
   "source": [
    "plt.figure(figsize=(10, 6))\n",
    "plt.plot(years, birthf, color='#197278', label='female')\n",
    "plt.plot(years, birthm, color='#7b2cbf', label='male')\n",
    "ax = plt.gca()\n",
    "ax.yaxis.get_major_formatter().set_scientific(False)\n",
    "plt.xticks(np.arange(1880, 2017, 8), rotation=90)\n",
    "plt.legend()\n",
    "plt.ylabel(\"Birthrate\", fontsize=13)\n",
    "plt.xlabel(\"Years\", fontsize=13)\n",
    "plt.title(\"Birth rates - boys vs. girls\", fontsize=20)\n",
    "#plt.savefig('birthrates_fm.png')\n",
    "plt.show()"
   ]
  },
  {
   "cell_type": "markdown",
   "id": "a2bf5b20",
   "metadata": {},
   "source": [
    "---"
   ]
  }
 ],
 "metadata": {
  "kernelspec": {
   "display_name": "Python 3 (ipykernel)",
   "language": "python",
   "name": "python3"
  },
  "language_info": {
   "codemirror_mode": {
    "name": "ipython",
    "version": 3
   },
   "file_extension": ".py",
   "mimetype": "text/x-python",
   "name": "python",
   "nbconvert_exporter": "python",
   "pygments_lexer": "ipython3",
   "version": "3.9.7"
  }
 },
 "nbformat": 4,
 "nbformat_minor": 5
}
